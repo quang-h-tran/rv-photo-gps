{
 "cells": [
  {
   "cell_type": "code",
   "execution_count": 365,
   "id": "73f43a8e-8bd1-4371-8bcd-f90284a4f3bd",
   "metadata": {},
   "outputs": [],
   "source": [
    "#%matplotlib notebook\n",
    "%matplotlib widget\n",
    "from IPython.display import display\n",
    "import exoplanet as xo\n",
    "import aesara_theano_fallback.tensor as tt\n",
    "import theano\n",
    "from celerite2.theano import terms, GaussianProcess\n",
    "import numpy as np\n",
    "import ipywidgets as widgets\n",
    "import matplotlib.pyplot as plt"
   ]
  },
  {
   "cell_type": "code",
   "execution_count": 366,
   "id": "a75e8459-1974-4f2c-9a5a-99898bf4782b",
   "metadata": {},
   "outputs": [],
   "source": [
    "def ready_data(y, yerr, data_type='lc'):\n",
    "    truth = y - yerr\n",
    "    yerr = np.abs(yerr)\n",
    "\n",
    "    if data_type == 'lc':\n",
    "        mu = np.mean(y)\n",
    "        y = (y / mu - 1) * 1e3\n",
    "        yerr = yerr * 1e3 / mu\n",
    "        truth = (truth / mu - 1) * 1e3\n",
    "\n",
    "    return y, yerr, truth"
   ]
  },
  {
   "cell_type": "code",
   "execution_count": 428,
   "id": "59b3897b-fef9-469a-aecc-7ce7c711bc59",
   "metadata": {},
   "outputs": [],
   "source": [
    "# test data\n",
    "\n",
    "#var_path = \"Spots/Orientation 1/Simulated Data/Decay Rate/tau_0.050\"\n",
    "var_path = \"example data/tau_0.050\"\n",
    "\n",
    "t = np.load(var_path + \"_t.npy\")\n",
    "flux = np.load(var_path + \"_f.npy\")\n",
    "flux_err = np.load(var_path + \"_ferr.npy\")\n",
    "rv = np.load(var_path + \"_rv.npy\")\n",
    "rv_err = np.load(var_path + \"_rverr.npy\")\n",
    "\n",
    "flux, flux_err, f_truth = ready_data(flux, flux_err)\n",
    "rv, rv_err, rv_truth = ready_data(rv, rv_err)\n",
    "tau = t - t[0]"
   ]
  },
  {
   "cell_type": "code",
   "execution_count": 368,
   "id": "999c9bdb-42c4-4917-974c-1f57ca35e9f6",
   "metadata": {},
   "outputs": [],
   "source": [
    "mean = tt.dscalar('mean')\n",
    "jitter = tt.dscalar('jitter')\n",
    "sigma = tt.dscalar('sigma')\n",
    "rho = tt.dscalar('rho')\n",
    "sigma_rot = tt.dscalar('sigma_rot')\n",
    "period = tt.dscalar('period')\n",
    "Q0 = tt.dscalar('Q0')\n",
    "dQ = tt.dscalar('dQ')\n",
    "f = tt.dscalar('f')"
   ]
  },
  {
   "cell_type": "code",
   "execution_count": 369,
   "id": "e4f74a29-5a20-41d5-baae-82f026c6aaf4",
   "metadata": {},
   "outputs": [],
   "source": [
    "#def run_gp(p, x=t, y=flux, yerr=flux_err):\n",
    "def run_gp(mean, jitter, sigma, rho, sigma_rot, period, Q0, dQ, f, x=t, y=flux, yerr=flux_err):    \n",
    "    #mean, log_jitter, sigma, rho, sigma_rot, log_period, log_Q0, log_dQ, f = p\n",
    "\n",
    "    kernel = terms.SHOTerm(sigma=sigma, rho=rho, Q=1.0/3.0)\n",
    "    kernel += terms.RotationTerm(\n",
    "        sigma=sigma_rot,\n",
    "        period=period,\n",
    "        Q0=Q0,\n",
    "        dQ=dQ,\n",
    "        f=f,)\n",
    "\n",
    "    gp = GaussianProcess(\n",
    "        kernel,\n",
    "        t=x,\n",
    "        diag=yerr**2 + jitter**2,\n",
    "        mean=mean,\n",
    "        quiet=True,)\n",
    "    \n",
    "    print()\n",
    "    \n",
    "    shot_psd = gp.kernel.terms[0].get_psd(omega)\n",
    "    rotation_psd = gp.kernel.terms[1].get_psd(omega)\n",
    "    full_psd = gp.kernel.get_psd(omega)\n",
    "\n",
    "    mu = gp.predict(y, return_var=False)\n",
    "\n",
    "    k_val = kernel.get_value(x - x[0])\n",
    "    k_val /= k_val[0]\n",
    "\n",
    "    return mu, k_val, shot_psd, rotation_psd, full_psd"
   ]
  },
  {
   "cell_type": "code",
   "execution_count": 372,
   "id": "d9dd39b1-0a40-4815-9583-82e81173f8cf",
   "metadata": {},
   "outputs": [
    {
     "name": "stdout",
     "output_type": "stream",
     "text": [
      "\n"
     ]
    }
   ],
   "source": [
    "gp_params = [mean, jitter, sigma, rho, sigma_rot, period, Q0, dQ, f]\n",
    "#gp_func = theano.function(gp_params, run_gp(gp_params))\n",
    "\n",
    "gp_func = theano.function(gp_params, run_gp(mean, jitter, sigma, rho, sigma_rot, period, Q0, dQ, f))\n",
    "\n",
    "#k_params = [np.average(flux), np.std(flux), 1.5, 1.0, 0.1, 11.0, 5.0, 3.0, 0.5]\n",
    "mu, k_val, shot_psd, rotation_psd, full_psd = gp_func(np.average(flux), np.average(flux_err), 1.5, 1.0, 0.1, 11.0, 5.0, 3.0, 0.5)\n",
    "\n",
    "freq = np.linspace(1.0 / 20.0, 1.0 / 0.25, 1000)\n",
    "omega = 2.0 * np.pi * freq\n",
    "tau = t - t[0]\n",
    "acor = xo.estimators.autocorr_function(flux)"
   ]
  },
  {
   "cell_type": "code",
   "execution_count": 427,
   "id": "9faea0fb-f139-4069-9d55-63b99cd55adf",
   "metadata": {},
   "outputs": [
    {
     "data": {
      "application/vnd.jupyter.widget-view+json": {
       "model_id": "1790d9656a704120a498df70710e87d0",
       "version_major": 2,
       "version_minor": 0
      },
      "text/plain": [
       "Canvas(toolbar=Toolbar(toolitems=[('Home', 'Reset original view', 'home', 'home'), ('Back', 'Back to previous …"
      ]
     },
     "metadata": {},
     "output_type": "display_data"
    },
    {
     "data": {
      "application/vnd.jupyter.widget-view+json": {
       "model_id": "ec6aeac07aa7498f83b1e9513a0d1634",
       "version_major": 2,
       "version_minor": 0
      },
      "text/plain": [
       "HBox(children=(FloatSlider(value=-4.889586677934319e-14, description='$\\\\mu$', max=4.790708451977821, min=-9.9…"
      ]
     },
     "metadata": {},
     "output_type": "display_data"
    },
    {
     "data": {
      "application/vnd.jupyter.widget-view+json": {
       "model_id": "489837deddec495d9145977bd90e22a7",
       "version_major": 2,
       "version_minor": 0
      },
      "text/plain": [
       "Output()"
      ]
     },
     "metadata": {},
     "output_type": "display_data"
    },
    {
     "data": {
      "application/vnd.jupyter.widget-view+json": {
       "model_id": "51d5824a67d54887acbb5a4d46ce64d8",
       "version_major": 2,
       "version_minor": 0
      },
      "text/plain": [
       "HBox(children=(FloatSlider(value=1.0, description='$\\\\sigma$', max=2.5, min=0.01, step=0.01), FloatSlider(valu…"
      ]
     },
     "metadata": {},
     "output_type": "display_data"
    },
    {
     "data": {
      "application/vnd.jupyter.widget-view+json": {
       "model_id": "489837deddec495d9145977bd90e22a7",
       "version_major": 2,
       "version_minor": 0
      },
      "text/plain": [
       "Output()"
      ]
     },
     "metadata": {},
     "output_type": "display_data"
    },
    {
     "data": {
      "application/vnd.jupyter.widget-view+json": {
       "model_id": "293ecfec74434730b49680686f49dd1b",
       "version_major": 2,
       "version_minor": 0
      },
      "text/plain": [
       "HBox(children=(FloatSlider(value=0.5, description='$\\\\sigma_\\\\mathrm{rot}$', max=2.5, step=0.01), FloatSlider(…"
      ]
     },
     "metadata": {},
     "output_type": "display_data"
    },
    {
     "data": {
      "application/vnd.jupyter.widget-view+json": {
       "model_id": "489837deddec495d9145977bd90e22a7",
       "version_major": 2,
       "version_minor": 0
      },
      "text/plain": [
       "Output()"
      ]
     },
     "metadata": {},
     "output_type": "display_data"
    },
    {
     "name": "stderr",
     "output_type": "stream",
     "text": [
      "/var/folders/pp/slx5z51s7j9d_w8l_mb2blvc0001sl/T/ipykernel_66964/2867666703.py:74: UserWarning: This figure includes Axes that are not compatible with tight_layout, so results might be incorrect.\n",
      "  plt.tight_layout()\n"
     ]
    }
   ],
   "source": [
    "lc_c = '#5198E6'\n",
    "rv_c = '#F58D2F'\n",
    "\n",
    "fig = plt.figure(figsize=(14, 6))\n",
    "gs = fig.add_gridspec(nrows=2, ncols=4, left=0.075, right=0.98, wspace=0.375, hspace=0.35)\n",
    "ax = fig.add_subplot(gs[:-1, :])\n",
    "ax1 = fig.add_subplot(gs[-1, :2])\n",
    "ax2 = fig.add_subplot(gs[-1, 2:])\n",
    "\n",
    "ax1.plot(tau, acor, color='black', lw=2.0, ls='-', label='ACF')\n",
    "line_kernel, = ax1.plot(tau, k_val, color=lc_c, lw=2.5, ls='--', label='GP Kernel')\n",
    "\n",
    "psd1, = ax2.loglog(freq, shot_psd, color='purple', label=r'SHOT Term')\n",
    "psd2, = ax2.loglog(freq, rotation_psd, color='gold', label=r'Rotation Term')\n",
    "psd3, = ax2.loglog(freq, full_psd, color='black', lw=2.0, ls='dotted', label=r'Full Model')\n",
    "\n",
    "ax.scatter(t, flux, c='black', marker='o', s=10.0, label='Data', zorder=-1)\n",
    "ax.plot(t, f_truth, color='orange', alpha=0.6, lw=1.5, label='Truth', zorder=10)\n",
    "line, = ax.plot(t, mu, color=lc_c,\n",
    "                alpha=0.85, zorder=6, lw=3.5,\n",
    "                label=r'GP')\n",
    "\n",
    "def update(avg=np.average(flux), jitter=np.average(flux_err), sigma=3.0, rho=0.5, sigma_rot=0.5, period=10.0, Q0=1.0, dQ=1.0, f=0.5):\n",
    "    new_mu, new_k_val, new_psd1, new_psd2, new_psd3 = gp_func(avg, jitter, sigma, rho, sigma_rot, period, Q0, dQ, f)\n",
    "    line.set_ydata(new_mu)\n",
    "    line_kernel.set_ydata(new_k_val)\n",
    "    psd1.set_ydata(new_psd1)\n",
    "    psd2.set_ydata(new_psd2)\n",
    "    psd3.set_ydata(new_psd3)\n",
    "    fig.canvas.draw_idle()\n",
    "    \n",
    "avg_widget = widgets.FloatSlider(description=r\"$\\mu$\", min=np.min(flux), max=np.max(flux), step=0.05*np.ptp(flux), value=np.average(flux))\n",
    "jitter_widget = widgets.FloatSlider(description=r\"jitter\", min=0.01, max=5.0, step=0.1, value=np.average(flux_err))\n",
    "sigma_widget = widgets.FloatSlider(description=r\"$\\sigma$\", min=0.01, max=2.5, step=0.01, value=1.0)\n",
    "rho_widget = widgets.FloatSlider(description=r\"$\\rho$\", min=0.01, max=50.0, step=0.01, value=0.5)\n",
    "sigma_rot_widget = widgets.FloatSlider(description=r\"$\\sigma_\\mathrm{rot}$\", min=0.0, max=2.5, step=0.01, value=0.5)\n",
    "period_widget = widgets.FloatSlider(description=r\"$P$\", min=0.01, max=20.0, step=0.1, value=10.0)\n",
    "Q0_widget = widgets.FloatSlider(description=r\"$Q_0$\", min=0.01, max=25.0, step=0.01, value=1.0)\n",
    "dQ_widget = widgets.FloatSlider(description=r\"$dQ$\", min=0.01, max=50.0, step=0.01, value=1.0)\n",
    "f_widget = widgets.FloatSlider(description=r\"$f$\", min=0.01, max=2.5, step=0.01, value=0.5)\n",
    "\n",
    "# old way, list all sliders but vertically stacked\n",
    "#widgets.interact(update, avg=avg_widget, jitter=jitter_widget, sigma=sigma_widget, rho=rho_widget, sigma_rot=sigma_rot_widget,\n",
    "#                 period=period_widget, Q0=Q0_widget, dQ=dQ_widget, f=f_widget);\n",
    "\n",
    "all_params = {'avg':avg_widget, 'jitter':jitter_widget, 'sigma':sigma_widget, 'rho':rho_widget,\n",
    "              'sigma_rot':sigma_rot_widget, 'period':period_widget, 'Q0':Q0_widget, 'dQ':dQ_widget, 'f':f_widget}\n",
    "out = widgets.interactive_output(update, all_params)\n",
    "\n",
    "display(widgets.HBox([avg_widget, jitter_widget]), out)\n",
    "display(widgets.HBox([sigma_widget, rho_widget]), out)\n",
    "display(widgets.HBox([sigma_rot_widget, period_widget, Q0_widget, dQ_widget, f_widget]), out)\n",
    "\n",
    "ax.set_xlim([np.min(t), np.max(t)])\n",
    "ax.tick_params(axis='both', which='major', labelsize=15)\n",
    "ax.set_xlabel(r\"Time (days)\", fontsize=19)\n",
    "ax.set_ylabel(r\"Relative Flux (ppt)\", fontsize=19)\n",
    "ax.legend(fontsize=14, markerscale=2.)\n",
    "\n",
    "ax1.set_xlim([t.min(), t.max()])\n",
    "ax1.set_ylim(top=1.0)\n",
    "ax1.tick_params(axis='both', which='major', labelsize=13)\n",
    "ax1.set_ylabel(r\"ACF or GP Kernel (ppt$^2$)\", fontsize=14)\n",
    "ax1.set_xlabel(r\"$\\tau$\", fontsize=18)\n",
    "ax1.legend(fontsize=14)\n",
    "\n",
    "ax2.set_xlim([freq.min(), freq.max()])\n",
    "ax2.set_ylim(top=50.0)\n",
    "ax2.tick_params(axis='both', which='major', labelsize=13)\n",
    "ax2.set_ylabel(r\"PSD (day ppt$^2$)\", fontsize=14)\n",
    "ax2.set_xlabel(r\"Frequency (day$^{-1}$)\", fontsize=18)\n",
    "ax2.legend(fontsize=14)\n",
    "\n",
    "plt.tight_layout()\n",
    "plt.show()"
   ]
  },
  {
   "cell_type": "code",
   "execution_count": 423,
   "id": "00302478-9d22-46d8-b400-83e933af3e6c",
   "metadata": {},
   "outputs": [],
   "source": [
    "plt.close()"
   ]
  },
  {
   "cell_type": "code",
   "execution_count": null,
   "id": "bb639c3b-7c3e-49c3-b0fb-0fc861c216de",
   "metadata": {},
   "outputs": [],
   "source": []
  },
  {
   "cell_type": "code",
   "execution_count": null,
   "id": "faf49f7c-9cbf-4474-bcda-916282ad3934",
   "metadata": {},
   "outputs": [],
   "source": []
  }
 ],
 "metadata": {
  "kernelspec": {
   "display_name": "Python 3 (ipykernel)",
   "language": "python",
   "name": "python3"
  },
  "language_info": {
   "codemirror_mode": {
    "name": "ipython",
    "version": 3
   },
   "file_extension": ".py",
   "mimetype": "text/x-python",
   "name": "python",
   "nbconvert_exporter": "python",
   "pygments_lexer": "ipython3",
   "version": "3.8.11"
  }
 },
 "nbformat": 4,
 "nbformat_minor": 5
}
