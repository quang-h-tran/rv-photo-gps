{
 "cells": [
  {
   "cell_type": "code",
   "execution_count": 289,
   "id": "3a2ea11f-d213-47a2-b1a9-6cb8c8aa7f4e",
   "metadata": {},
   "outputs": [],
   "source": [
    "import matplotlib.pyplot as plt\n",
    "%matplotlib widget\n",
    "\n",
    "from scipy.optimize import curve_fit\n",
    "from scipy.optimize import minimize\n",
    "import numpy as np\n",
    "\n",
    "import exoplanet as xo\n",
    "import pymc3 as pm\n",
    "import pymc3_ext as pmx\n",
    "import aesara_theano_fallback.tensor as tt\n",
    "from celerite2.theano import terms, GaussianProcess"
   ]
  },
  {
   "cell_type": "code",
   "execution_count": 486,
   "id": "8add9ccd-d6a6-4c4c-82a1-5fe224fd0557",
   "metadata": {},
   "outputs": [],
   "source": [
    "def func(x, a, b, c, d, e, f, g, h):\n",
    "    return a + b*x + c*x**2.0 + d*x**3.0 + e*x**4.0 + f*x**5.0 + g*x**6.0 + h*x**6.0"
   ]
  },
  {
   "cell_type": "code",
   "execution_count": 291,
   "id": "5e0cd6b6-dcaf-4e7a-ae0e-45edbeddec78",
   "metadata": {},
   "outputs": [],
   "source": [
    "fake_y, fake_x = np.array([0.5, 0.3, -0.2, -2.25, 1.2, 4.5]), np.array([1, 1.5, 2.25, 6.0, 10, 15.5])\n",
    "fake_y_err = np.ones_like(fake_y) * 0.1\n",
    "\n",
    "sampled_x = np.linspace(min(fake_x), max(fake_x), 1000)\n",
    "\n",
    "popt, pcov = curve_fit(func, fake_x, fake_y, p0=[0.3, 0.6, -0.5, 0.09, -0.05], sigma=fake_y_err)\n",
    "\n",
    "perr = np.sqrt(np.diag(pcov))\n",
    "\n",
    "popt_m1 = popt - perr\n",
    "popt_p1 = popt + perr"
   ]
  },
  {
   "cell_type": "code",
   "execution_count": 292,
   "id": "42675c79-ad4c-4b6a-a6fe-8b8cdd451e03",
   "metadata": {},
   "outputs": [],
   "source": [
    "import celerite2\n",
    "from celerite2 import terms\n",
    "\n",
    "x1 = np.linspace(1, 2.25, 100)\n",
    "x2 = np.array([6.0, 10, 15.5])\n",
    "x = np.concatenate((x1, x2))\n",
    "yerr = np.random.uniform(0.08, 0.22, len(x))\n",
    "y = func(x, *popt)\n",
    "\n",
    "kernel = terms.Matern32Term(sigma=3.0, rho=5.0)\n",
    "\n",
    "# Setup the GP\n",
    "gp = celerite2.GaussianProcess(kernel, mean=np.average(y))\n",
    "gp.compute(x)#, yerr=yerr)\n",
    "\n",
    "mu, variance = gp.predict(y, t=sampled_x, return_var=True)\n",
    "sigma = np.sqrt(variance)"
   ]
  },
  {
   "cell_type": "code",
   "execution_count": 293,
   "id": "04abc38c-de04-418e-bb41-5efcc0c12689",
   "metadata": {},
   "outputs": [
    {
     "data": {
      "application/vnd.jupyter.widget-view+json": {
       "model_id": "d2a6302e0ef14cd289965c722cf3645b",
       "version_major": 2,
       "version_minor": 0
      },
      "text/plain": [
       "Canvas(toolbar=Toolbar(toolitems=[('Home', 'Reset original view', 'home', 'home'), ('Back', 'Back to previous …"
      ]
     },
     "metadata": {},
     "output_type": "display_data"
    }
   ],
   "source": [
    "fig, ax = plt.subplots(figsize=(10, 4))\n",
    "\n",
    "ax.set_ylim(-13.1, 15.3)\n",
    "ax.set_xlabel(\"some time $t$\")\n",
    "ax.set_ylabel(\"some data $y$\")\n",
    "\n",
    "\n",
    "ax.scatter(fake_x, fake_y, s=50, color='blue', zorder=10)\n",
    "#plt.savefig(\"../Talks/Invited Yale Talk/GP Explaination/data.png\", bbox_inches='tight', dpi=400)\n",
    "\n",
    "ax.plot(sampled_x, func(sampled_x, *popt), 'k--')\n",
    "#plt.savefig(\"../Talks/Invited Yale Talk/GP Explaination/fit.png\", bbox_inches='tight', dpi=400)\n",
    "\n",
    "#ax.fill_between(sampled_x, y1=func(sampled_x, *popt_m1), y2=func(sampled_x, *popt_p1), color=\"C0\", alpha=0.2)\n",
    "#plt.savefig(\"../Talks/Invited Yale Talk/GP Explaination/fit_w_errs.png\", bbox_inches='tight', dpi=400)\n",
    "\n",
    "ax.fill_between(sampled_x, mu - 3*sigma, mu + 3*sigma, color=\"C0\", alpha=0.2)\n",
    "#plt.savefig(\"../Talks/Invited Yale Talk/GP Explaination/fit_w_gp.png\", bbox_inches='tight', dpi=400)\n",
    "\n",
    "plt.tight_layout()\n",
    "plt.show()"
   ]
  },
  {
   "cell_type": "code",
   "execution_count": 294,
   "id": "c8d8fdb7-1fbe-4223-860e-c718b04276d3",
   "metadata": {},
   "outputs": [],
   "source": [
    "plt.close()"
   ]
  },
  {
   "cell_type": "code",
   "execution_count": 648,
   "id": "aa127d9b-0a2c-4919-8db1-c9a82af88ccc",
   "metadata": {},
   "outputs": [],
   "source": [
    "np.random.seed(42)\n",
    "\n",
    "t = np.sort(\n",
    "    np.append(\n",
    "        np.random.uniform(0, 3.8, 57),\n",
    "        np.random.uniform(5.5, 10, 68),\n",
    "    )\n",
    ")  # The input coordinates must be sorted\n",
    "yerr = np.random.uniform(0.08, 0.22, len(t))\n",
    "y = (\n",
    "    0.2 * (t - 5)\n",
    "    + np.sin(3 * t + 0.1 * (t - 5) ** 2)\n",
    "    + yerr * np.random.randn(len(t))\n",
    ")\n",
    "\n",
    "true_t = np.linspace(0, 10, 500)\n",
    "true_y = 0.2 * (true_t - 5) + np.sin(3 * true_t + 0.1 * (true_t - 5) ** 2)\n",
    "\n",
    "def fake_func(t, c, d):\n",
    "    return 0.15 * (t - 5.0) + np.sin(c * t + d * (t - 5.0) ** 2)\n",
    "\n",
    "def fake_func2(t, a, b, c, d, e, f, g, h, j, k):\n",
    "    return a*np.sin(b*t - c) + d*np.cos(e*t - f) + g*np.sin(h*t - c)**2 + j*np.cos(k*t - f)**2\n",
    "\n",
    "def fake_func3(t, a, b, c, d, e, f, g, h, i, j):\n",
    "    return a*np.sin(b*t - c)**2 + d*np.cos(e*t - f)**2 + g*(t-h) + i*(t-j)**2"
   ]
  },
  {
   "cell_type": "code",
   "execution_count": 653,
   "id": "5b822b8c-822c-40f0-a7ac-fbbcce593e93",
   "metadata": {},
   "outputs": [],
   "source": [
    "popt, pcov = curve_fit(fake_func, t, y, p0=[3.0, 0.2], sigma=yerr, absolute_sigma=True)\n",
    "\n",
    "popt2, pcov2 = curve_fit(fake_func2, t, y, sigma=yerr, absolute_sigma=True, maxfev=10000)\n",
    "popt3, pcov3 = curve_fit(fake_func3, t, y, sigma=yerr, absolute_sigma=True)"
   ]
  },
  {
   "cell_type": "code",
   "execution_count": 654,
   "id": "2bc78242-7efb-4e4d-8417-676d605bd930",
   "metadata": {},
   "outputs": [],
   "source": [
    "# Quasi-periodic term\n",
    "term1 = terms.SHOTerm(sigma=1.0, rho=1.0, tau=10.0)\n",
    "\n",
    "# Non-periodic component\n",
    "term2 = terms.SHOTerm(sigma=1.0, rho=5.0, Q=0.25)\n",
    "kernel = term1 + term2\n",
    "\n",
    "# Setup the GP\n",
    "gp = celerite2.GaussianProcess(kernel, mean=0.0)\n",
    "gp.compute(t, yerr=yerr)\n",
    "\n",
    "initial_mu, initial_variance = gp.predict(y, t=true_t, return_var=True)\n",
    "initial_sigma = np.sqrt(initial_variance)\n",
    "\n",
    "def set_params(params, gp):\n",
    "    gp.mean = params[0]\n",
    "    theta = np.exp(params[1:])\n",
    "    gp.kernel = terms.SHOTerm(\n",
    "        sigma=theta[0], rho=theta[1], tau=theta[2]\n",
    "    ) + terms.SHOTerm(sigma=theta[3], rho=theta[4], Q=0.25)\n",
    "    gp.compute(t, diag=yerr ** 2 + theta[5], quiet=True)\n",
    "    return gp\n",
    "\n",
    "\n",
    "def neg_log_like(params, gp):\n",
    "    gp = set_params(params, gp)\n",
    "    return -gp.log_likelihood(y)\n",
    "\n",
    "\n",
    "initial_params = [0.0, 0.0, 0.0, np.log(10.0), 0.0, np.log(5.0), np.log(0.01)]\n",
    "soln = minimize(neg_log_like, initial_params, method=\"L-BFGS-B\", args=(gp,))\n",
    "opt_gp = set_params(soln.x, gp)\n",
    "\n",
    "mu, variance = opt_gp.predict(y, t=true_t, return_var=True)\n",
    "sigma = np.sqrt(variance)"
   ]
  },
  {
   "cell_type": "code",
   "execution_count": 665,
   "id": "6db1e219-396c-43d8-9c29-79018e2a627c",
   "metadata": {},
   "outputs": [
    {
     "data": {
      "application/vnd.jupyter.widget-view+json": {
       "model_id": "c5984868b1a54f61a9ff7e04fbe8575b",
       "version_major": 2,
       "version_minor": 0
      },
      "text/plain": [
       "Canvas(toolbar=Toolbar(toolitems=[('Home', 'Reset original view', 'home', 'home'), ('Back', 'Back to previous …"
      ]
     },
     "metadata": {},
     "output_type": "display_data"
    }
   ],
   "source": [
    "fig, ax = plt.subplots(figsize=(10, 4))\n",
    "\n",
    "#ax.plot(true_t, true_y, \"k\", lw=1.5, alpha=0.3, label='Truth')\n",
    "\n",
    "ax.errorbar(t, y, yerr=yerr, fmt=\".k\", capsize=0, label='Data')\n",
    "\n",
    "#ax.plot(true_t, fake_func(true_t, *popt), 'k--', label='Traditional Regression')\n",
    "\n",
    "ax.plot(true_t, fake_func(true_t, *popt), 'k--', lw=1.0, alpha=0.35, label='Traditional Regression')\n",
    "#ax.plot(true_t, fake_func2(true_t, *popt2), 'k--', lw=1.0, alpha=0.35)\n",
    "#ax.plot(true_t, fake_func3(true_t, *popt3), 'k--', lw=1.0, alpha=0.35)\n",
    "#for n in [12, 13, 14, 15, 16, 17, 18, 19, 20]:\n",
    "#    z = np.polyfit(t, y, n)\n",
    "#    p = np.poly1d(z)\n",
    "#\n",
    "#    ax.plot(true_t, p(true_t), 'k--', lw=1.0, alpha=0.35)#, label='Traditional Regression')\n",
    "\n",
    "#ax.plot(true_t, initial_mu, label=\"Initial GP\")\n",
    "#ax.fill_between(true_t, initial_mu - initial_sigma, initial_mu + initial_sigma, color=\"C0\", alpha=0.2)\n",
    "\n",
    "#ax.plot(true_t, mu, label=\"Final GP\")\n",
    "#ax.fill_between(true_t, mu - sigma, mu + sigma, color=\"C0\", alpha=0.2)\n",
    "\n",
    "ax.set_xlabel(\"$t$ (day)\")\n",
    "ax.set_ylabel(\"Data (ppm)\")\n",
    "\n",
    "ax.legend(loc='upper left', fontsize=16, markerscale=1.0)\n",
    "\n",
    "ax.set_xlim(0, 10)\n",
    "ax.set_ylim(-2.5, 2.5)\n",
    "\n",
    "#plt.savefig(\"../Talks/Invited Yale Talk/GP Explaination/gp_ex_truth.png\", bbox_inches='tight', dpi=400)\n",
    "#plt.savefig(\"../Talks/Invited Yale Talk/GP Explaination/gp_ex_data.png\", bbox_inches='tight', dpi=400)\n",
    "#plt.savefig(\"../Talks/Invited Yale Talk/GP Explaination/gp_ex_data_only.png\", bbox_inches='tight', dpi=400)\n",
    "#plt.savefig(\"../Talks/Invited Yale Talk/GP Explaination/gp_ex_traditional.png\", bbox_inches='tight', dpi=400)\n",
    "plt.savefig(\"../Talks/Invited Yale Talk/GP Explaination/gp_ex_multi_traditional1.png\", bbox_inches='tight', dpi=400)\n",
    "#plt.savefig(\"../Talks/Invited Yale Talk/GP Explaination/gp_ex_multi_traditional2.png\", bbox_inches='tight', dpi=400)\n",
    "#plt.savefig(\"../Talks/Invited Yale Talk/GP Explaination/gp_ex_multi_traditional3.png\", bbox_inches='tight', dpi=400)\n",
    "#plt.savefig(\"../Talks/Invited Yale Talk/GP Explaination/gp_ex_multi_traditional.png\", bbox_inches='tight', dpi=400)\n",
    "#plt.savefig(\"../Talks/Invited Yale Talk/GP Explaination/gp_initial_gp.png\", bbox_inches='tight', dpi=400)\n",
    "#plt.savefig(\"../Talks/Invited Yale Talk/GP Explaination/gp_final_gp.png\", bbox_inches='tight', dpi=400)\n",
    "\n",
    "#plt.tight_layout()\n",
    "#plt.show()"
   ]
  },
  {
   "cell_type": "code",
   "execution_count": 661,
   "id": "e6e060db-777a-4889-8d42-a211bebdd1f8",
   "metadata": {},
   "outputs": [],
   "source": [
    "plt.close()"
   ]
  },
  {
   "cell_type": "code",
   "execution_count": null,
   "id": "a6b377ae-521a-475e-9772-cc4c4b80b72e",
   "metadata": {},
   "outputs": [],
   "source": []
  }
 ],
 "metadata": {
  "kernelspec": {
   "display_name": "Python 3 (ipykernel)",
   "language": "python",
   "name": "python3"
  },
  "language_info": {
   "codemirror_mode": {
    "name": "ipython",
    "version": 3
   },
   "file_extension": ".py",
   "mimetype": "text/x-python",
   "name": "python",
   "nbconvert_exporter": "python",
   "pygments_lexer": "ipython3",
   "version": "3.8.11"
  }
 },
 "nbformat": 4,
 "nbformat_minor": 5
}
